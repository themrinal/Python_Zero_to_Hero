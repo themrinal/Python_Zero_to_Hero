{
 "cells": [
  {
   "cell_type": "code",
   "execution_count": 3,
   "id": "a12ca57f-aea4-4465-ba8a-0d4f62792fca",
   "metadata": {},
   "outputs": [
    {
     "name": "stdout",
     "output_type": "stream",
     "text": [
      "hellow world!\n"
     ]
    }
   ],
   "source": [
    "print(\"hellow world!\")"
   ]
  },
  {
   "cell_type": "code",
   "execution_count": 9,
   "id": "75bd077e-8322-4ebb-9fdf-1b340bcec833",
   "metadata": {},
   "outputs": [
    {
     "name": "stdout",
     "output_type": "stream",
     "text": [
      "This line is indented and within the if block\n",
      "Last statement of the if block\n",
      "This line is not indented and not part of that if block\n"
     ]
    }
   ],
   "source": [
    "if True:\n",
    "    print('This line is indented and within the if block')\n",
    "    print('Last statement of the if block')\n",
    "\n",
    "print('This line is not indented and not part of that if block')"
   ]
  },
  {
   "cell_type": "code",
   "execution_count": 13,
   "id": "e6f3cf0a-bec6-4fb2-b113-3597928ddaa5",
   "metadata": {},
   "outputs": [
    {
     "name": "stdout",
     "output_type": "stream",
     "text": [
      "30\n"
     ]
    }
   ],
   "source": [
    "a=10\n",
    "b=20\n",
    "print(a+b)    # printing the sum of two values"
   ]
  },
  {
   "cell_type": "code",
   "execution_count": 14,
   "id": "ad44ad19-8242-4015-a36e-e67b23ba40a6",
   "metadata": {},
   "outputs": [
    {
     "name": "stdout",
     "output_type": "stream",
     "text": [
      "20\n",
      "10\n"
     ]
    }
   ],
   "source": [
    "a=20\n",
    "A=10\n",
    "print(a)\n",
    "print(A)"
   ]
  }
 ],
 "metadata": {
  "kernelspec": {
   "display_name": "Python 3 (ipykernel)",
   "language": "python",
   "name": "python3"
  },
  "language_info": {
   "codemirror_mode": {
    "name": "ipython",
    "version": 3
   },
   "file_extension": ".py",
   "mimetype": "text/x-python",
   "name": "python",
   "nbconvert_exporter": "python",
   "pygments_lexer": "ipython3",
   "version": "3.13.1"
  }
 },
 "nbformat": 4,
 "nbformat_minor": 5
}
