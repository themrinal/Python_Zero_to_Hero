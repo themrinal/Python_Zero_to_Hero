{
 "cells": [
  {
   "cell_type": "code",
   "execution_count": 5,
   "id": "df60733b-13e6-4d02-af3f-15d31a6efd3b",
   "metadata": {},
   "outputs": [
    {
     "name": "stdout",
     "output_type": "stream",
     "text": [
      "5\n",
      "Mrinal\n"
     ]
    }
   ],
   "source": [
    "x=5\n",
    "y='Mrinal'\n",
    "print(x)\n",
    "print(y)"
   ]
  },
  {
   "cell_type": "code",
   "execution_count": 9,
   "id": "1cb12b1a-76d3-436c-aace-dd693ca6cf91",
   "metadata": {},
   "outputs": [
    {
     "name": "stdout",
     "output_type": "stream",
     "text": [
      "<class 'int'>\n",
      "<class 'str'>\n"
     ]
    }
   ],
   "source": [
    "x=4\n",
    "print(type(x))\n",
    "\n",
    "x='Mrinal Das'\n",
    "print(type(x))\n"
   ]
  },
  {
   "cell_type": "code",
   "execution_count": 14,
   "id": "1df113e6-07f6-4e60-8198-ad22b552e7d5",
   "metadata": {},
   "outputs": [
    {
     "name": "stdout",
     "output_type": "stream",
     "text": [
      "<class 'int'>\n",
      "3\n"
     ]
    }
   ],
   "source": [
    "x = int(3.5)\n",
    "print(type(x))\n",
    "print(x)"
   ]
  },
  {
   "cell_type": "code",
   "execution_count": 16,
   "id": "3a463cd0-a76f-4959-9563-7e173d66a68d",
   "metadata": {},
   "outputs": [
    {
     "name": "stdout",
     "output_type": "stream",
     "text": [
      "India India\n"
     ]
    }
   ],
   "source": [
    "x=\"India\"\n",
    "y='India'\n",
    "print(x, y)"
   ]
  },
  {
   "cell_type": "code",
   "execution_count": 18,
   "id": "0f173c3c-43bf-465e-ab53-142be2fc4786",
   "metadata": {},
   "outputs": [
    {
     "name": "stdout",
     "output_type": "stream",
     "text": [
      "India Nepal\n"
     ]
    }
   ],
   "source": [
    "a='India'\n",
    "A='Nepal'\n",
    "\n",
    "print(a, A)"
   ]
  },
  {
   "cell_type": "code",
   "execution_count": 31,
   "id": "86ccd100-0fa7-4e72-8681-415d8a286bd9",
   "metadata": {},
   "outputs": [],
   "source": [
    "age = 13\n",
    "studentname= 'Mrinal'\n",
    "\n",
    "ag2e2 = 20\n",
    "\n",
    "myvar = 10\n",
    "my_var = 10\n",
    "_my_var = 10\n",
    "myvar_ = 10\n",
    "myvar2 = 10\n",
    "my2var2 = 10\n",
    "\n",
    "#2myvar = 20\n",
    "#my-var = 20\n",
    "#my var = 20"
   ]
  },
  {
   "cell_type": "code",
   "execution_count": 33,
   "id": "b7a352e2-9c41-4051-afc4-b402ddfc8f0b",
   "metadata": {},
   "outputs": [],
   "source": [
    "\n",
    "# camel case\n",
    "myVarName = 20\n",
    "\n",
    "# pascal case\n",
    "MyVarName = 100\n",
    "\n",
    "#snake case\n",
    "my_variable_name = 'siliguri'"
   ]
  },
  {
   "cell_type": "code",
   "execution_count": 38,
   "id": "0c2e14ee-9f5f-463f-8f1c-d9881f5be964",
   "metadata": {},
   "outputs": [
    {
     "name": "stdout",
     "output_type": "stream",
     "text": [
      "Siliguri Siliguri Siliguri Siliguri\n"
     ]
    }
   ],
   "source": [
    "x, y, z, a = 10, 20, 30, 40\n",
    "\n",
    "a=b=c=d='Siliguri'\n",
    "\n",
    "print(a, b, c, d)"
   ]
  },
  {
   "cell_type": "code",
   "execution_count": 42,
   "id": "c67e49f1-ce95-422f-aa3e-d1da5e7f589f",
   "metadata": {},
   "outputs": [
    {
     "name": "stdout",
     "output_type": "stream",
     "text": [
      "SiliguriSiliguriSiliguriSiliguri\n"
     ]
    }
   ],
   "source": [
    "print(a + b + c + d)"
   ]
  },
  {
   "cell_type": "code",
   "execution_count": 45,
   "id": "f83e93ab-a1cb-4e3e-9c91-93ee297d077f",
   "metadata": {},
   "outputs": [
    {
     "name": "stdout",
     "output_type": "stream",
     "text": [
      "value of X = 5\n",
      "X =  5\n"
     ]
    }
   ],
   "source": [
    "x = 5\n",
    "\n",
    "def show():\n",
    "    print(\"value of X =\", x)\n",
    "def display():\n",
    "    print('X = ', x)\n",
    "\n",
    "show()\n",
    "display()"
   ]
  },
  {
   "cell_type": "code",
   "execution_count": 48,
   "id": "1b0c5513-ba8a-4a29-ab4f-d00833a11b9b",
   "metadata": {},
   "outputs": [
    {
     "name": "stdout",
     "output_type": "stream",
     "text": [
      "100\n",
      "value of x = Mrinal\n",
      "Mrinal\n"
     ]
    }
   ],
   "source": [
    "x = 100\n",
    "\n",
    "def show():\n",
    "    global x \n",
    "    x = 'Mrinal'\n",
    "    print('value of x =', x)\n",
    "    \n",
    "print(x)\n",
    "show()\n",
    "print(x)"
   ]
  }
 ],
 "metadata": {
  "kernelspec": {
   "display_name": "Python 3 (ipykernel)",
   "language": "python",
   "name": "python3"
  },
  "language_info": {
   "codemirror_mode": {
    "name": "ipython",
    "version": 3
   },
   "file_extension": ".py",
   "mimetype": "text/x-python",
   "name": "python",
   "nbconvert_exporter": "python",
   "pygments_lexer": "ipython3",
   "version": "3.13.1"
  }
 },
 "nbformat": 4,
 "nbformat_minor": 5
}
